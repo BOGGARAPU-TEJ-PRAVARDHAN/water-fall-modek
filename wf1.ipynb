{
  "nbformat": 4,
  "nbformat_minor": 0,
  "metadata": {
    "colab": {
      "provenance": [],
      "authorship_tag": "ABX9TyOpUnxkGhrkvBjMA8O//YAG",
      "include_colab_link": true
    },
    "kernelspec": {
      "name": "python3",
      "display_name": "Python 3"
    },
    "language_info": {
      "name": "python"
    }
  },
  "cells": [
    {
      "cell_type": "markdown",
      "metadata": {
        "id": "view-in-github",
        "colab_type": "text"
      },
      "source": [
        "<a href=\"https://colab.research.google.com/github/BOGGARAPU-TEJ-PRAVARDHAN/water-fall-modek/blob/main/wf1.ipynb\" target=\"_parent\"><img src=\"https://colab.research.google.com/assets/colab-badge.svg\" alt=\"Open In Colab\"/></a>"
      ]
    },
    {
      "cell_type": "code",
      "execution_count": 2,
      "metadata": {
        "colab": {
          "base_uri": "https://localhost:8080/"
        },
        "id": "M7lm_kEl76xo",
        "outputId": "9faec2f4-76b9-4543-d45c-9b6c0ead8e37"
      },
      "outputs": [
        {
          "output_type": "stream",
          "name": "stdout",
          "text": [
            "Weather modeling result (hardcoded values): 426.0\n"
          ]
        }
      ],
      "source": [
        "\n",
        "T = 30  # Temperature\n",
        "H = 50  # Humidity\n",
        "W = 10  # Wind speed\n",
        "\n",
        "# Quadratic solution\n",
        "weather_model = 0.5 * T**2 - 0.2 * H + 0.1 * W - 15\n",
        "print(f\"Weather modeling result (hardcoded values): {weather_model}\")\n"
      ]
    }
  ]
}