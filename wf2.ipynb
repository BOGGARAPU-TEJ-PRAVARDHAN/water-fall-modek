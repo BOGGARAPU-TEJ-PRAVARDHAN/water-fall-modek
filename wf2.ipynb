{
  "nbformat": 4,
  "nbformat_minor": 0,
  "metadata": {
    "colab": {
      "provenance": [],
      "authorship_tag": "ABX9TyPdOe5Ae1LkmfIll3+89Dtu",
      "include_colab_link": true
    },
    "kernelspec": {
      "name": "python3",
      "display_name": "Python 3"
    },
    "language_info": {
      "name": "python"
    }
  },
  "cells": [
    {
      "cell_type": "markdown",
      "metadata": {
        "id": "view-in-github",
        "colab_type": "text"
      },
      "source": [
        "<a href=\"https://colab.research.google.com/github/BOGGARAPU-TEJ-PRAVARDHAN/water-fall-modek/blob/main/wf2.ipynb\" target=\"_parent\"><img src=\"https://colab.research.google.com/assets/colab-badge.svg\" alt=\"Open In Colab\"/></a>"
      ]
    },
    {
      "cell_type": "code",
      "execution_count": 1,
      "metadata": {
        "colab": {
          "base_uri": "https://localhost:8080/"
        },
        "id": "CJ0egC34Gi-S",
        "outputId": "01e55571-0aa5-41b6-f038-338c8f767b29"
      },
      "outputs": [
        {
          "output_type": "stream",
          "name": "stdout",
          "text": [
            "Enter the temperature (T): 20\n",
            "Enter the humidity (H): 30\n",
            "Enter the wind speed (W): 40\n",
            "Weather modeling result (keyboard input): 183.0\n"
          ]
        }
      ],
      "source": [
        "T = float(input(\"Enter the temperature (T): \"))\n",
        "H = float(input(\"Enter the humidity (H): \"))\n",
        "W = float(input(\"Enter the wind speed (W): \"))\n",
        "\n",
        "# Quadratic solution\n",
        "weather_model = 0.5 * T**2 - 0.2 * H + 0.1 * W - 15\n",
        "print(f\"Weather modeling result (keyboard input): {weather_model}\")\n"
      ]
    }
  ]
}